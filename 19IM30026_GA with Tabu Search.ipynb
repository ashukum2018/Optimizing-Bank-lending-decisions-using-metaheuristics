{
 "cells": [
  {
   "cell_type": "code",
   "execution_count": 150,
   "metadata": {},
   "outputs": [],
   "source": [
    "#Name: Ashutosh Kumar\n",
    "#Roll: 19IM30026"
   ]
  },
  {
   "cell_type": "markdown",
   "metadata": {},
   "source": [
    "# Importing Required Libraries"
   ]
  },
  {
   "cell_type": "code",
   "execution_count": 151,
   "metadata": {},
   "outputs": [],
   "source": [
    "#Import required libraries\n",
    "import pandas as pd\n",
    "import random\n",
    "import numpy as np\n",
    "\n",
    "import matplotlib.pyplot as plt\n",
    "from matplotlib import style\n",
    "style.use('dark_background')\n",
    "%matplotlib qt"
   ]
  },
  {
   "cell_type": "markdown",
   "metadata": {},
   "source": [
    "# Importing Data"
   ]
  },
  {
   "cell_type": "code",
   "execution_count": 152,
   "metadata": {},
   "outputs": [
    {
     "data": {
      "text/html": [
       "<div>\n",
       "<style scoped>\n",
       "    .dataframe tbody tr th:only-of-type {\n",
       "        vertical-align: middle;\n",
       "    }\n",
       "\n",
       "    .dataframe tbody tr th {\n",
       "        vertical-align: top;\n",
       "    }\n",
       "\n",
       "    .dataframe thead th {\n",
       "        text-align: right;\n",
       "    }\n",
       "</style>\n",
       "<table border=\"1\" class=\"dataframe\">\n",
       "  <thead>\n",
       "    <tr style=\"text-align: right;\">\n",
       "      <th></th>\n",
       "      <th>Loan_Size</th>\n",
       "      <th>Interest</th>\n",
       "      <th>Rating</th>\n",
       "      <th>Loss</th>\n",
       "      <th>Loan_Type(phi)</th>\n",
       "    </tr>\n",
       "  </thead>\n",
       "  <tbody>\n",
       "    <tr>\n",
       "      <th>0</th>\n",
       "      <td>10</td>\n",
       "      <td>0.021</td>\n",
       "      <td>AAA</td>\n",
       "      <td>0.0002</td>\n",
       "      <td>M</td>\n",
       "    </tr>\n",
       "    <tr>\n",
       "      <th>1</th>\n",
       "      <td>25</td>\n",
       "      <td>0.022</td>\n",
       "      <td>BB</td>\n",
       "      <td>0.0058</td>\n",
       "      <td>M</td>\n",
       "    </tr>\n",
       "    <tr>\n",
       "      <th>2</th>\n",
       "      <td>4</td>\n",
       "      <td>0.021</td>\n",
       "      <td>A</td>\n",
       "      <td>0.0001</td>\n",
       "      <td>M</td>\n",
       "    </tr>\n",
       "    <tr>\n",
       "      <th>3</th>\n",
       "      <td>11</td>\n",
       "      <td>0.027</td>\n",
       "      <td>AA</td>\n",
       "      <td>0.0003</td>\n",
       "      <td>M</td>\n",
       "    </tr>\n",
       "    <tr>\n",
       "      <th>4</th>\n",
       "      <td>18</td>\n",
       "      <td>0.025</td>\n",
       "      <td>BBB</td>\n",
       "      <td>0.0024</td>\n",
       "      <td>M</td>\n",
       "    </tr>\n",
       "    <tr>\n",
       "      <th>5</th>\n",
       "      <td>3</td>\n",
       "      <td>0.026</td>\n",
       "      <td>AAA</td>\n",
       "      <td>0.0002</td>\n",
       "      <td>M</td>\n",
       "    </tr>\n",
       "    <tr>\n",
       "      <th>6</th>\n",
       "      <td>17</td>\n",
       "      <td>0.023</td>\n",
       "      <td>BB</td>\n",
       "      <td>0.0058</td>\n",
       "      <td>M</td>\n",
       "    </tr>\n",
       "    <tr>\n",
       "      <th>7</th>\n",
       "      <td>15</td>\n",
       "      <td>0.021</td>\n",
       "      <td>AAA</td>\n",
       "      <td>0.0002</td>\n",
       "      <td>M</td>\n",
       "    </tr>\n",
       "    <tr>\n",
       "      <th>8</th>\n",
       "      <td>9</td>\n",
       "      <td>0.028</td>\n",
       "      <td>A</td>\n",
       "      <td>0.0010</td>\n",
       "      <td>M</td>\n",
       "    </tr>\n",
       "    <tr>\n",
       "      <th>9</th>\n",
       "      <td>10</td>\n",
       "      <td>0.022</td>\n",
       "      <td>A</td>\n",
       "      <td>0.0010</td>\n",
       "      <td>M</td>\n",
       "    </tr>\n",
       "  </tbody>\n",
       "</table>\n",
       "</div>"
      ],
      "text/plain": [
       "   Loan_Size  Interest Rating    Loss Loan_Type(phi)\n",
       "0         10     0.021    AAA  0.0002              M\n",
       "1         25     0.022     BB  0.0058              M\n",
       "2          4     0.021      A  0.0001              M\n",
       "3         11     0.027     AA  0.0003              M\n",
       "4         18     0.025    BBB  0.0024              M\n",
       "5          3     0.026    AAA  0.0002              M\n",
       "6         17     0.023     BB  0.0058              M\n",
       "7         15     0.021    AAA  0.0002              M\n",
       "8          9     0.028      A  0.0010              M\n",
       "9         10     0.022      A  0.0010              M"
      ]
     },
     "execution_count": 152,
     "metadata": {},
     "output_type": "execute_result"
    }
   ],
   "source": [
    "#Importing given data from excel\n",
    "data=pd.read_csv(\"data.csv\")\n",
    "\n",
    "#Finding the Loan type for the given Loan Size\n",
    "data['Loan_Type(phi)'] = data['Interest'].apply(lambda x: 'M' if (x<=0.028 and x>=0.021) else ('P'  if (x>=0.0599 and x<=0.0609) else('A' if (x>=0.0339 and x<=0.0399) else \"\")))\n",
    "data\n",
    "# M: Mortgage, P:Personal, A: Auto (Loan Types)"
   ]
  },
  {
   "cell_type": "markdown",
   "metadata": {},
   "source": [
    "# Initializing Parameters"
   ]
  },
  {
   "cell_type": "code",
   "execution_count": 153,
   "metadata": {},
   "outputs": [],
   "source": [
    "#Initializing parameters for Genetic ALgorithm\n",
    "\n",
    "max_iter=60     # maximum iteration for the algo to run\n",
    "n=60                 # population size\n",
    "N=10                 # Number of customers\n",
    "prob_mut=0.5     # probability of mutation\n",
    "\n",
    "#Given predefined loan characteristics\n",
    "D=60                 # Financial institutions's Deposit\n",
    "K=0.15               # Reserve Ratio \n",
    "delta=0.0025         # Pre-determined Institutional Cost\n",
    "rT=0.01              # Customer Transaction Rate\n",
    "rD=0.009             # Deposit Rate "
   ]
  },
  {
   "cell_type": "markdown",
   "metadata": {},
   "source": [
    "# Initial Population"
   ]
  },
  {
   "cell_type": "code",
   "execution_count": 154,
   "metadata": {},
   "outputs": [],
   "source": [
    "#Generating initial population\n",
    "\n",
    "initial_population=[]\n",
    "\n",
    "while(len(initial_population) < n):\n",
    "    x=[]\n",
    "    i=0\n",
    "    while(i<N):\n",
    "        x.append(random.choice([0,1]))          # Genrating intial binary string\n",
    "        i+=1\n",
    "    L=0\n",
    "    for i in range(0,10):\n",
    "        if(x[i]==1):\n",
    "            L+=data.Loan_Size[i]                   # Calculation sum of Loan\n",
    "            \n",
    "        \n",
    "    if L<=((1-K)*D):                              # Checking the feasibility condition\n",
    "         initial_population.append(x)\n"
   ]
  },
  {
   "cell_type": "markdown",
   "metadata": {},
   "source": [
    "# Fitness Function"
   ]
  },
  {
   "cell_type": "code",
   "execution_count": 155,
   "metadata": {},
   "outputs": [],
   "source": [
    "def calculate_fitness_value(population):\n",
    "\n",
    "    fitness=[]\n",
    "    \n",
    "    for p in population:\n",
    "        \n",
    "        # initialising variables\n",
    "        loan_revenue_nu=0\n",
    "        total_transaction_cost_omega=0\n",
    "        demand_deposit_beta=0\n",
    "        sum_lambda=0         #loss\n",
    "        L=0\n",
    "        loan_revenue_nu=0\n",
    "        penalty=0\n",
    "        \n",
    "        # calculating sum(loan) value\n",
    "        for customer in range(N):\n",
    "            if p[customer] == 1:\n",
    "                L += data.Loan_Size[customer]\n",
    "                \n",
    "                if L>((1-K)*D):           # checking the feasibility condition and assigning penalty if the condition fails\n",
    "                        penalty=1000\n",
    "        \n",
    "        #calculating loan characteristics part of fitness function    \n",
    "        for customer in range(N):\n",
    "            \n",
    "            if p[customer]==1:\n",
    "                loan_revenue_nu+= (data.Interest[customer]*data.Loan_Size[customer]) - data.Loss[customer]\n",
    "                loan_cost_mu+=data.Loan_Size[customer]*delta\n",
    "                sum_lambda+=data.Loss[customer]\n",
    "                total_transaction_cost_omega+=rT*((1-K)*D-data.Loan_Size[customer])\n",
    "                \n",
    "        demand_deposit_beta=rD*D\n",
    "        fitness.append(loan_revenue_nu+total_transaction_cost_omega-demand_deposit_beta-sum_lambda-penalty)\n",
    "\n",
    "        \n",
    "    return fitness"
   ]
  },
  {
   "cell_type": "code",
   "execution_count": 156,
   "metadata": {},
   "outputs": [],
   "source": [
    "#Function to calculate fitness value of chromosome\n",
    "def calculate_fitness_chromosome(chromosome):\n",
    "\n",
    "    fitnessc=0\n",
    "   # initialising variables\n",
    "    loan_revenue_nu=0\n",
    "    total_transaction_cost_omega=0\n",
    "    demand_deposit_beta=0\n",
    "    sum_lambda=0         #loss\n",
    "    L=0\n",
    "    loan_revenue_nu=0\n",
    "    penalty=0\n",
    "     \n",
    "    #calculate sum(loan) value\n",
    "    for j in range(len(chromosome)):\n",
    "        if chromosome[j] == 1:\n",
    "            L += data.Loan_Size[j]\n",
    "                \n",
    "        if L>((1-K)*D):           # checking the feasibility condition and assigning penalty if the condition fails\n",
    "            penalty=1000\n",
    "        \n",
    "    #calculate loan characteristics part of fitness function    \n",
    "    for j in range(len(chromosome)):\n",
    "            \n",
    "        if chromosome[j]==1:\n",
    "            loan_revenue_nu+= (data.Interest[j]*data.Loan_Size[j]) - data.Loss[j]\n",
    "            sum_lambda+=data.Loss[j]\n",
    "            total_transaction_cost_omega+=rT*((1-K)*D-data.Loan_Size[j])\n",
    "                \n",
    "        demand_deposit_beta=rD*D\n",
    "        fitnessc=(loan_revenue_nu+total_transaction_cost_omega-demand_deposit_beta-sum_lambda-penalty)\n",
    "    return fitnessc"
   ]
  },
  {
   "cell_type": "markdown",
   "metadata": {},
   "source": [
    "# Roulette Wheel Selection"
   ]
  },
  {
   "cell_type": "code",
   "execution_count": 157,
   "metadata": {},
   "outputs": [],
   "source": [
    "#Function for Roulette Wheel selection : Selecting chromosomes to choose intial chromosome from\n",
    "\n",
    "def selection(population,fitness):\n",
    "    \n",
    "    selected_population = []\n",
    "    \n",
    "    # calculating probability of selection\n",
    "    fitness_sum=sum(fitness)\n",
    "    prob_of_select=[x/fitness_sum for x in fitness]\n",
    "    cum_prob=np.cumsum(prob_of_select)\n",
    "    \n",
    "    #generating random number to select chromosomes\n",
    "    random_no=[random.random() for i in range(len(population))]\n",
    "    selection_index=cum_prob.searchsorted(random_no)\n",
    "    \n",
    "    for i in selection_index:\n",
    "        selected_population.append(population[i])\n",
    "        \n",
    "    return selected_population  "
   ]
  },
  {
   "cell_type": "markdown",
   "metadata": {},
   "source": [
    "# Mutation"
   ]
  },
  {
   "cell_type": "code",
   "execution_count": 158,
   "metadata": {},
   "outputs": [],
   "source": [
    "#Function to perfom mutation and to generate candidate list containing set of 5 possible neighborhood solutions\n",
    "def mutation(chromosome):\n",
    "    \n",
    "    chromosome_mutation=[]\n",
    "    #list of 5 chromosomes\n",
    "    for i in range(5):\n",
    "        cm=chromosome.copy()\n",
    "        chromosome_mutation.append(cm)\n",
    "    \n",
    "    #performs bit-flipping mutation\n",
    "    for i in range(5):\n",
    "        for j in range(N):\n",
    "            if random.random() < prob_mut:\n",
    "                \n",
    "                chromosome_mutation[i][j]^=1\n",
    "                   \n",
    "    return chromosome_mutation          "
   ]
  },
  {
   "cell_type": "code",
   "execution_count": 159,
   "metadata": {},
   "outputs": [],
   "source": [
    "#to choose neighborhood solution from a candidate list\n",
    "def select_neighborhood_solution(candidate_list):\n",
    "    \n",
    "    \n",
    "    n_sol=[]\n",
    "    \n",
    "    #choosing neighborhood solution which has maximum fitness value from the candidate list\n",
    "    fitness_clist=calculate_fitness_population(candidate_list)\n",
    "    fitness_nsoln=max(fitness_clist)\n",
    "    nsol_index=fitness_clist.index(fitness_nsoln)\n",
    "    \n",
    "    #asipiration criteria if solution is already in Tabu list\n",
    "    if candidate_list[nsol_index] in Tabu_List:\n",
    "            if fitness_nsoln > best_fitness:\n",
    "                n_sol=candidate_list[nsol_index]\n",
    "            else: \n",
    "                candidate_list=mutation(chromosome)\n",
    "                select_neighborhood_solution(candidate_list)\n",
    "    else:\n",
    "        n_sol=candidate_list[nsol_index]\n",
    "        \n",
    "    \n",
    "    return n_sol\n"
   ]
  },
  {
   "cell_type": "code",
   "execution_count": 160,
   "metadata": {},
   "outputs": [],
   "source": [
    "#choosing initial chromosome by from selected population\n",
    "def select_initial_chromosome():\n",
    "    \n",
    "    pop=initial_population\n",
    "    fitness=calculate_fitness_population(pop)\n",
    "    \n",
    "    selected_pop=selection(pop,fitness)\n",
    "    rand=random.randint(0,N-1)\n",
    "    chromosome=selected_pop[rand]\n",
    "    fitness_chromosome=calculate_fitness_chromosome(chromosome)\n",
    "    \n",
    "    return chromosome,fitness_chromosome"
   ]
  },
  {
   "cell_type": "markdown",
   "metadata": {},
   "source": [
    "# Amalgation of Tabu Search and Genetic Algorithm"
   ]
  },
  {
   "cell_type": "code",
   "execution_count": 161,
   "metadata": {
    "scrolled": true
   },
   "outputs": [],
   "source": [
    "#initialising variables\n",
    "Tabu_List=[]       #tabu List\n",
    "Tabu_Count=[]      #Stores Tabu Tenure\n",
    "chromosome=[]\n",
    "best_fit=[]\n",
    "\n",
    "#Calculating Fitness Value of Initial Population\n",
    "fitness_pop=calculate_fitness_population(initial_population)\n",
    "#selecting intial solution (chromosome) \n",
    "chromosome,fitness_chromosome= select_initial_chromosome() \n",
    "\n",
    "#Initialising varibles to find best fitness and best solution\n",
    "best_fitness=(fitness_chromosome)\n",
    "best_sol=chromosome\n",
    "\n",
    "for i in range(max_iter):\n",
    "\n",
    "    #generating a candidate list to choose chromosome from\n",
    "    candidate_list=mutation(chromosome)\n",
    "\n",
    "    #selection of neighborhood solution from candidate list\n",
    "    neighborhood_soln=select_neighborhood_solution(candidate_list)\n",
    "    fitness_neighborhoodsoln=calculate_fitness_chromosome(neighborhood_soln)\n",
    "\n",
    "    #Updation of better chromosome and fitness\n",
    "    if(fitness_chromosome < fitness_neighborhoodsoln):\n",
    "        chromosome=neighborhood_soln\n",
    "        fitness_chromosome=calculate_fitness_chromosome(chromosome)\n",
    "        \n",
    "        #Updating Tabulist\n",
    "        if(len(Tabu_Count)):\n",
    "            Tabu_Count[:] = [tc - 1 for tc in Tabu_Count]\n",
    "        #Max-Length of Tabu List is 3 \n",
    "        if len(Tabu_List)>3:\n",
    "            Tabu_List.pop(0)\n",
    "            Tabu_Count.pop(0)\n",
    "        Tabu_List.append(chromosome)\n",
    "        Tabu_Count.append(3)   \n",
    "    #updating best fitness value and best solution\n",
    "    if best_fitness < fitness_chromosome:\n",
    "        best_fitness=fitness_chromosome\n",
    "        best_sol=chromosome\n",
    "    best_fit.append(fitness_chromosome)"
   ]
  },
  {
   "cell_type": "code",
   "execution_count": 162,
   "metadata": {},
   "outputs": [
    {
     "data": {
      "text/plain": [
       "[0, 0, 0, 1, 1, 1, 0, 0, 1, 1]"
      ]
     },
     "execution_count": 162,
     "metadata": {},
     "output_type": "execute_result"
    }
   ],
   "source": [
    "best_sol"
   ]
  },
  {
   "cell_type": "code",
   "execution_count": 163,
   "metadata": {
    "scrolled": true
   },
   "outputs": [
    {
     "data": {
      "text/plain": [
       "2.7872"
      ]
     },
     "execution_count": 163,
     "metadata": {},
     "output_type": "execute_result"
    }
   ],
   "source": [
    "best_fitness"
   ]
  },
  {
   "cell_type": "code",
   "execution_count": 164,
   "metadata": {},
   "outputs": [
    {
     "data": {
      "text/plain": [
       "[[0, 0, 1, 1, 0, 1, 1, 1, 0, 0],\n",
       " [0, 1, 1, 0, 0, 1, 0, 0, 1, 1],\n",
       " [0, 0, 1, 1, 0, 0, 0, 1, 1, 1],\n",
       " [0, 0, 0, 1, 1, 1, 0, 0, 1, 1]]"
      ]
     },
     "execution_count": 164,
     "metadata": {},
     "output_type": "execute_result"
    }
   ],
   "source": [
    "Tabu_List"
   ]
  },
  {
   "cell_type": "code",
   "execution_count": 165,
   "metadata": {},
   "outputs": [
    {
     "data": {
      "text/plain": [
       "[0, 1, 2, 3]"
      ]
     },
     "execution_count": 165,
     "metadata": {},
     "output_type": "execute_result"
    }
   ],
   "source": [
    "Tabu_Count"
   ]
  },
  {
   "cell_type": "code",
   "execution_count": 166,
   "metadata": {},
   "outputs": [],
   "source": [
    "font = {'family':'calibri',\n",
    "        'color':'white',\n",
    "        'weight':'bold',\n",
    "        'size':20}\n",
    "plt.plot(best_fit, label=\"Maximum Fitness per generation\")\n",
    "plt.legend()\n",
    "plt.title(\"Fitness vs Generations\", fontdict=font)\n",
    "plt.xlabel(\"Generations\")\n",
    "plt.ylabel(\"Fitness Value\")\n",
    "plt.show()"
   ]
  },
  {
   "cell_type": "code",
   "execution_count": null,
   "metadata": {},
   "outputs": [],
   "source": []
  },
  {
   "cell_type": "code",
   "execution_count": null,
   "metadata": {},
   "outputs": [],
   "source": []
  },
  {
   "cell_type": "code",
   "execution_count": null,
   "metadata": {},
   "outputs": [],
   "source": []
  }
 ],
 "metadata": {
  "kernelspec": {
   "display_name": "Python 3",
   "language": "python",
   "name": "python3"
  },
  "language_info": {
   "codemirror_mode": {
    "name": "ipython",
    "version": 3
   },
   "file_extension": ".py",
   "mimetype": "text/x-python",
   "name": "python",
   "nbconvert_exporter": "python",
   "pygments_lexer": "ipython3",
   "version": "3.8.3"
  }
 },
 "nbformat": 4,
 "nbformat_minor": 2
}
